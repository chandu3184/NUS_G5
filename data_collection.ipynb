{
 "cells": [
  {
   "cell_type": "code",
   "execution_count": null,
   "id": "23c2961e-d41a-4ad9-b62a-0a7f3cb6bb6f",
   "metadata": {},
   "outputs": [],
   "source": [
    "import json\n",
    "import requests\n",
    "import time\n",
    "import os\n",
    "import pprint"
   ]
  },
  {
   "cell_type": "code",
   "execution_count": null,
   "id": "20b77cc8-13cb-4e61-a062-c9a2ceed9f0b",
   "metadata": {},
   "outputs": [],
   "source": [
    "endpoint = \"https://api.bing.microsoft.com/\"\n",
    "\n",
    "url = f\"{endpoint}v7.0/images/search\"\n",
    "\n",
    "headers = { \"Ocp-Apim-Subscription-Key\": \"8bc224a850aa4bfa9008b2fc8d1ebc8c\" }\n",
    "\n",
    "params = {\n",
    "    \"q\": \"aston martin\", \n",
    "    \"license\": \"public\", \n",
    "    \"imageType\": \"photo\",\n",
    "    \"safeSearch\": \"Strict\",\n",
    "}"
   ]
  },
  {
   "cell_type": "code",
   "execution_count": null,
   "id": "a589ec43-4c89-4bd8-b4d9-22fa5fc2a819",
   "metadata": {},
   "outputs": [],
   "source": [
    "response = requests.get(url, headers=headers, params=params)\n",
    "response.raise_for_status()\n",
    "\n",
    "result = response.json()\n",
    "\n",
    "pprint.pprint(result)"
   ]
  },
  {
   "cell_type": "code",
   "execution_count": null,
   "id": "35e8b33f-d2eb-48e9-a0a3-a786e6a95bae",
   "metadata": {},
   "outputs": [],
   "source": [
    "new_offset = 0\n",
    "contentUrls = []\n",
    "\n",
    "while new_offset <= 200:\n",
    "    print(new_offset)\n",
    "    params[\"offset\"] = new_offset\n",
    "\n",
    "    response = requests.get(url, headers=headers, params=params)\n",
    "    response.raise_for_status()\n",
    "\n",
    "    result = response.json()\n",
    "\n",
    "    time.sleep(1)\n",
    "\n",
    "    new_offset = result[\"nextOffset\"]\n",
    "\n",
    "    for item in result[\"value\"]:\n",
    "        content_url = item[\"contentUrl\"]\n",
    "        print(content_url)\n",
    "        contentUrls.append(content_url)"
   ]
  },
  {
   "cell_type": "code",
   "execution_count": null,
   "id": "dd0b3ba3",
   "metadata": {},
   "outputs": [],
   "source": [
    "dir_path = \"./cars\"\n",
    "\n",
    "if not os.path.exists(dir_path):\n",
    "    os.makedirs(dir_path)\n",
    "\n",
    "for url in contentUrls:\n",
    "    path = os.path.join(dir_path, url)\n",
    "\n",
    "    try:\n",
    "        with open(path, \"wb\") as f:\n",
    "            image_data = requests.get(url)\n",
    "\n",
    "            f.write(image_data.content)\n",
    "    except OSError:\n",
    "        pass"
   ]
  }
 ],
 "metadata": {
  "kernelspec": {
   "display_name": "Python 3.8 - AzureML",
   "language": "python",
   "name": "python38-azureml"
  },
  "language_info": {
   "codemirror_mode": {
    "name": "ipython",
    "version": 3
   },
   "file_extension": ".py",
   "mimetype": "text/x-python",
   "name": "python",
   "nbconvert_exporter": "python",
   "pygments_lexer": "ipython3",
   "version": "3.8.5"
  }
 },
 "nbformat": 4,
 "nbformat_minor": 5
}
